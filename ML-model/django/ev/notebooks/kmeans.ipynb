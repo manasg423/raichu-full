{
 "cells": [
  {
   "cell_type": "code",
   "execution_count": 1,
   "id": "ae9cd600",
   "metadata": {},
   "outputs": [],
   "source": [
    "# Import necessary libraries\n",
    "from sklearn.cluster import KMeans\n",
    "import matplotlib.pyplot as plt\n",
    "import pandas as pd"
   ]
  },
  {
   "cell_type": "code",
   "execution_count": 2,
   "id": "9deb918c",
   "metadata": {},
   "outputs": [],
   "source": [
    "pune_EV = pd.read_csv(\"Pune_EV.csv\")"
   ]
  },
  {
   "cell_type": "code",
   "execution_count": 3,
   "id": "f0a58113",
   "metadata": {},
   "outputs": [
    {
     "data": {
      "text/html": [
       "<div>\n",
       "<style scoped>\n",
       "    .dataframe tbody tr th:only-of-type {\n",
       "        vertical-align: middle;\n",
       "    }\n",
       "\n",
       "    .dataframe tbody tr th {\n",
       "        vertical-align: top;\n",
       "    }\n",
       "\n",
       "    .dataframe thead th {\n",
       "        text-align: right;\n",
       "    }\n",
       "</style>\n",
       "<table border=\"1\" class=\"dataframe\">\n",
       "  <thead>\n",
       "    <tr style=\"text-align: right;\">\n",
       "      <th></th>\n",
       "      <th>No.</th>\n",
       "      <th>Region</th>\n",
       "      <th>address</th>\n",
       "      <th>latitude</th>\n",
       "      <th>longitude</th>\n",
       "      <th>power</th>\n",
       "      <th>pin</th>\n",
       "    </tr>\n",
       "  </thead>\n",
       "  <tbody>\n",
       "    <tr>\n",
       "      <th>0</th>\n",
       "      <td>1</td>\n",
       "      <td>sus</td>\n",
       "      <td>84, Pashan - Sus Rd, Pashan, Pune, Maharashtra</td>\n",
       "      <td>18.553462</td>\n",
       "      <td>73.756114</td>\n",
       "      <td>7.4 kW</td>\n",
       "      <td>411021</td>\n",
       "    </tr>\n",
       "    <tr>\n",
       "      <th>1</th>\n",
       "      <td>2</td>\n",
       "      <td>Balewadi</td>\n",
       "      <td>Balewadi, Pune, Maharashtra</td>\n",
       "      <td>18.579631</td>\n",
       "      <td>73.762776</td>\n",
       "      <td>7.4 kW</td>\n",
       "      <td>411045</td>\n",
       "    </tr>\n",
       "    <tr>\n",
       "      <th>2</th>\n",
       "      <td>3</td>\n",
       "      <td>Balewadi</td>\n",
       "      <td>The Orchid Hotel, SHREE SHIV CHHATRAPATI SPORT...</td>\n",
       "      <td>18.570929</td>\n",
       "      <td>73.764921</td>\n",
       "      <td>7.4 kW</td>\n",
       "      <td>411045</td>\n",
       "    </tr>\n",
       "    <tr>\n",
       "      <th>3</th>\n",
       "      <td>4</td>\n",
       "      <td>Hinjawaadi</td>\n",
       "      <td>HPR3+2R5, Highmont Rd, Phase 2, Hinjewadi Raji...</td>\n",
       "      <td>18.592928</td>\n",
       "      <td>73.703307</td>\n",
       "      <td>7.4 kW</td>\n",
       "      <td>411057</td>\n",
       "    </tr>\n",
       "    <tr>\n",
       "      <th>4</th>\n",
       "      <td>5</td>\n",
       "      <td>Hinjawaadi</td>\n",
       "      <td>Opposite Indialand Global Tech Park, Old Yes B...</td>\n",
       "      <td>18.596145</td>\n",
       "      <td>73.724591</td>\n",
       "      <td>7.4 kW</td>\n",
       "      <td>411057</td>\n",
       "    </tr>\n",
       "  </tbody>\n",
       "</table>\n",
       "</div>"
      ],
      "text/plain": [
       "   No.      Region                                            address   \n",
       "0    1         sus    84, Pashan - Sus Rd, Pashan, Pune, Maharashtra   \\\n",
       "1    2    Balewadi                       Balewadi, Pune, Maharashtra    \n",
       "2    3    Balewadi  The Orchid Hotel, SHREE SHIV CHHATRAPATI SPORT...   \n",
       "3    4  Hinjawaadi  HPR3+2R5, Highmont Rd, Phase 2, Hinjewadi Raji...   \n",
       "4    5  Hinjawaadi  Opposite Indialand Global Tech Park, Old Yes B...   \n",
       "\n",
       "    latitude  longitude   power     pin  \n",
       "0  18.553462  73.756114  7.4 kW  411021  \n",
       "1  18.579631  73.762776  7.4 kW  411045  \n",
       "2  18.570929  73.764921  7.4 kW  411045  \n",
       "3  18.592928  73.703307  7.4 kW  411057  \n",
       "4  18.596145  73.724591  7.4 kW  411057  "
      ]
     },
     "execution_count": 3,
     "metadata": {},
     "output_type": "execute_result"
    }
   ],
   "source": [
    "pune_EV.head()"
   ]
  },
  {
   "cell_type": "code",
   "execution_count": 4,
   "id": "e6db18ff",
   "metadata": {},
   "outputs": [],
   "source": [
    "# Extract relevant features for clustering\n",
    "X = pune_EV[['latitude', 'longitude']].values"
   ]
  },
  {
   "cell_type": "code",
   "execution_count": 5,
   "id": "95f9fb03",
   "metadata": {},
   "outputs": [
    {
     "name": "stderr",
     "output_type": "stream",
     "text": [
      "c:\\Users\\Dell\\lib\\site-packages\\sklearn\\cluster\\_kmeans.py:870: FutureWarning: The default value of `n_init` will change from 10 to 'auto' in 1.4. Set the value of `n_init` explicitly to suppress the warning\n",
      "  warnings.warn(\n"
     ]
    }
   ],
   "source": [
    "# Train K-Means clustering model\n",
    "kmeans = KMeans(n_clusters=7, random_state=42) # Specify the number of clusters\n",
    "kmeans.fit(X)\n",
    "pune_EV['kmeans_labels'] = kmeans.labels_"
   ]
  },
  {
   "cell_type": "code",
   "execution_count": 6,
   "id": "04c4f0bb",
   "metadata": {},
   "outputs": [
    {
     "name": "stdout",
     "output_type": "stream",
     "text": [
      "K-Means Silhouette Score: 0.5098814565758544\n"
     ]
    }
   ],
   "source": [
    "from sklearn.metrics import silhouette_score\n",
    "\n",
    "# Calculate silhouette scores\n",
    "kmeans_silhouette_score = silhouette_score(X, pune_EV['kmeans_labels'])\n",
    "print(\"K-Means Silhouette Score:\", kmeans_silhouette_score)"
   ]
  },
  {
   "cell_type": "code",
   "execution_count": 7,
   "id": "6e211348",
   "metadata": {},
   "outputs": [
    {
     "data": {
      "text/plain": [
       "['./../savedmodels/model.joblib']"
      ]
     },
     "execution_count": 7,
     "metadata": {},
     "output_type": "execute_result"
    }
   ],
   "source": [
    "from joblib import dump\n",
    "dump(kmeans, './../savedmodels/model.joblib')"
   ]
  }
 ],
 "metadata": {
  "kernelspec": {
   "display_name": "Python 3 (ipykernel)",
   "language": "python",
   "name": "python3"
  },
  "language_info": {
   "codemirror_mode": {
    "name": "ipython",
    "version": 3
   },
   "file_extension": ".py",
   "mimetype": "text/x-python",
   "name": "python",
   "nbconvert_exporter": "python",
   "pygments_lexer": "ipython3",
   "version": "3.10.8"
  }
 },
 "nbformat": 4,
 "nbformat_minor": 5
}
